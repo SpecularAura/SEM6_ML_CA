{
 "cells": [
  {
   "cell_type": "code",
   "execution_count": 16,
   "id": "4ca19b6c-4437-4269-9851-4ca087ba1292",
   "metadata": {
    "tags": []
   },
   "outputs": [],
   "source": [
    "import numpy as np\n",
    "import pandas as pd\n",
    "import matplotlib.pyplot as plt\n",
    "import seaborn as sns \n",
    "from sklearn.linear_model import LinearRegression"
   ]
  },
  {
   "cell_type": "code",
   "execution_count": 17,
   "id": "e7f770e9-567e-4a90-81e8-4011c0404b9b",
   "metadata": {
    "tags": []
   },
   "outputs": [],
   "source": [
    "df = pd.read_csv(\"futuristic_city_traffic.csv\")"
   ]
  },
  {
   "cell_type": "code",
   "execution_count": 18,
   "id": "7a237821-e1b0-4269-8691-a24e74342123",
   "metadata": {
    "tags": []
   },
   "outputs": [
    {
     "data": {
      "text/html": [
       "<div>\n",
       "<style scoped>\n",
       "    .dataframe tbody tr th:only-of-type {\n",
       "        vertical-align: middle;\n",
       "    }\n",
       "\n",
       "    .dataframe tbody tr th {\n",
       "        vertical-align: top;\n",
       "    }\n",
       "\n",
       "    .dataframe thead th {\n",
       "        text-align: right;\n",
       "    }\n",
       "</style>\n",
       "<table border=\"1\" class=\"dataframe\">\n",
       "  <thead>\n",
       "    <tr style=\"text-align: right;\">\n",
       "      <th></th>\n",
       "      <th>City</th>\n",
       "      <th>Vehicle Type</th>\n",
       "      <th>Weather</th>\n",
       "      <th>Economic Condition</th>\n",
       "      <th>Day Of Week</th>\n",
       "      <th>Hour Of Day</th>\n",
       "      <th>Speed</th>\n",
       "      <th>Is Peak Hour</th>\n",
       "      <th>Random Event Occurred</th>\n",
       "      <th>Energy Consumption</th>\n",
       "      <th>Traffic Density</th>\n",
       "    </tr>\n",
       "  </thead>\n",
       "  <tbody>\n",
       "    <tr>\n",
       "      <th>0</th>\n",
       "      <td>SolarisVille</td>\n",
       "      <td>Drone</td>\n",
       "      <td>Snowy</td>\n",
       "      <td>Stable</td>\n",
       "      <td>Sunday</td>\n",
       "      <td>20</td>\n",
       "      <td>29.4268</td>\n",
       "      <td>0</td>\n",
       "      <td>0</td>\n",
       "      <td>14.7134</td>\n",
       "      <td>0.5241</td>\n",
       "    </tr>\n",
       "    <tr>\n",
       "      <th>1</th>\n",
       "      <td>AquaCity</td>\n",
       "      <td>Flying Car</td>\n",
       "      <td>Solar Flare</td>\n",
       "      <td>Recession</td>\n",
       "      <td>Wednesday</td>\n",
       "      <td>2</td>\n",
       "      <td>118.8000</td>\n",
       "      <td>0</td>\n",
       "      <td>0</td>\n",
       "      <td>143.5682</td>\n",
       "      <td>0.3208</td>\n",
       "    </tr>\n",
       "    <tr>\n",
       "      <th>2</th>\n",
       "      <td>Neuroburg</td>\n",
       "      <td>Autonomous Vehicle</td>\n",
       "      <td>Solar Flare</td>\n",
       "      <td>Recession</td>\n",
       "      <td>Wednesday</td>\n",
       "      <td>16</td>\n",
       "      <td>100.3904</td>\n",
       "      <td>0</td>\n",
       "      <td>0</td>\n",
       "      <td>91.2640</td>\n",
       "      <td>0.0415</td>\n",
       "    </tr>\n",
       "    <tr>\n",
       "      <th>3</th>\n",
       "      <td>Ecoopolis</td>\n",
       "      <td>Drone</td>\n",
       "      <td>Clear</td>\n",
       "      <td>Booming</td>\n",
       "      <td>Thursday</td>\n",
       "      <td>8</td>\n",
       "      <td>76.8000</td>\n",
       "      <td>1</td>\n",
       "      <td>0</td>\n",
       "      <td>46.0753</td>\n",
       "      <td>0.1811</td>\n",
       "    </tr>\n",
       "    <tr>\n",
       "      <th>4</th>\n",
       "      <td>AquaCity</td>\n",
       "      <td>Autonomous Vehicle</td>\n",
       "      <td>Solar Flare</td>\n",
       "      <td>Stable</td>\n",
       "      <td>Saturday</td>\n",
       "      <td>16</td>\n",
       "      <td>45.2176</td>\n",
       "      <td>0</td>\n",
       "      <td>0</td>\n",
       "      <td>40.1934</td>\n",
       "      <td>0.4544</td>\n",
       "    </tr>\n",
       "  </tbody>\n",
       "</table>\n",
       "</div>"
      ],
      "text/plain": [
       "           City        Vehicle Type      Weather Economic Condition  \\\n",
       "0  SolarisVille               Drone        Snowy             Stable   \n",
       "1      AquaCity          Flying Car  Solar Flare          Recession   \n",
       "2     Neuroburg  Autonomous Vehicle  Solar Flare          Recession   \n",
       "3     Ecoopolis               Drone        Clear            Booming   \n",
       "4      AquaCity  Autonomous Vehicle  Solar Flare             Stable   \n",
       "\n",
       "  Day Of Week  Hour Of Day     Speed  Is Peak Hour  Random Event Occurred  \\\n",
       "0      Sunday           20   29.4268             0                      0   \n",
       "1   Wednesday            2  118.8000             0                      0   \n",
       "2   Wednesday           16  100.3904             0                      0   \n",
       "3    Thursday            8   76.8000             1                      0   \n",
       "4    Saturday           16   45.2176             0                      0   \n",
       "\n",
       "   Energy Consumption  Traffic Density  \n",
       "0             14.7134           0.5241  \n",
       "1            143.5682           0.3208  \n",
       "2             91.2640           0.0415  \n",
       "3             46.0753           0.1811  \n",
       "4             40.1934           0.4544  "
      ]
     },
     "execution_count": 18,
     "metadata": {},
     "output_type": "execute_result"
    }
   ],
   "source": [
    "df.head()"
   ]
  },
  {
   "cell_type": "code",
   "execution_count": 19,
   "id": "6c01252f-1dff-4392-be9e-0fe3c619aafb",
   "metadata": {
    "tags": []
   },
   "outputs": [
    {
     "data": {
      "text/plain": [
       "City                      object\n",
       "Vehicle Type              object\n",
       "Weather                   object\n",
       "Economic Condition        object\n",
       "Day Of Week               object\n",
       "Hour Of Day                int64\n",
       "Speed                    float64\n",
       "Is Peak Hour               int64\n",
       "Random Event Occurred      int64\n",
       "Energy Consumption       float64\n",
       "Traffic Density          float64\n",
       "dtype: object"
      ]
     },
     "execution_count": 19,
     "metadata": {},
     "output_type": "execute_result"
    }
   ],
   "source": [
    "df.dtypes"
   ]
  },
  {
   "cell_type": "code",
   "execution_count": 20,
   "id": "364d9ac6-74dd-40d8-b7e1-39fa12116f84",
   "metadata": {
    "tags": []
   },
   "outputs": [
    {
     "data": {
      "text/html": [
       "<div>\n",
       "<style scoped>\n",
       "    .dataframe tbody tr th:only-of-type {\n",
       "        vertical-align: middle;\n",
       "    }\n",
       "\n",
       "    .dataframe tbody tr th {\n",
       "        vertical-align: top;\n",
       "    }\n",
       "\n",
       "    .dataframe thead th {\n",
       "        text-align: right;\n",
       "    }\n",
       "</style>\n",
       "<table border=\"1\" class=\"dataframe\">\n",
       "  <thead>\n",
       "    <tr style=\"text-align: right;\">\n",
       "      <th></th>\n",
       "      <th>City</th>\n",
       "      <th>Vehicle Type</th>\n",
       "      <th>Weather</th>\n",
       "      <th>Economic Condition</th>\n",
       "      <th>Day Of Week</th>\n",
       "      <th>Hour Of Day</th>\n",
       "      <th>Speed</th>\n",
       "      <th>Is Peak Hour</th>\n",
       "      <th>Random Event Occurred</th>\n",
       "      <th>Energy Consumption</th>\n",
       "      <th>Traffic Density</th>\n",
       "    </tr>\n",
       "  </thead>\n",
       "  <tbody>\n",
       "    <tr>\n",
       "      <th>0</th>\n",
       "      <td>SolarisVille</td>\n",
       "      <td>Drone</td>\n",
       "      <td>Snowy</td>\n",
       "      <td>Stable</td>\n",
       "      <td>Sunday</td>\n",
       "      <td>20</td>\n",
       "      <td>29.4268</td>\n",
       "      <td>0</td>\n",
       "      <td>0</td>\n",
       "      <td>14.7134</td>\n",
       "      <td>0.5241</td>\n",
       "    </tr>\n",
       "    <tr>\n",
       "      <th>1</th>\n",
       "      <td>AquaCity</td>\n",
       "      <td>Flying Car</td>\n",
       "      <td>Solar Flare</td>\n",
       "      <td>Recession</td>\n",
       "      <td>Wednesday</td>\n",
       "      <td>2</td>\n",
       "      <td>118.8000</td>\n",
       "      <td>0</td>\n",
       "      <td>0</td>\n",
       "      <td>143.5682</td>\n",
       "      <td>0.3208</td>\n",
       "    </tr>\n",
       "    <tr>\n",
       "      <th>2</th>\n",
       "      <td>Neuroburg</td>\n",
       "      <td>Autonomous Vehicle</td>\n",
       "      <td>Solar Flare</td>\n",
       "      <td>Recession</td>\n",
       "      <td>Wednesday</td>\n",
       "      <td>16</td>\n",
       "      <td>100.3904</td>\n",
       "      <td>0</td>\n",
       "      <td>0</td>\n",
       "      <td>91.2640</td>\n",
       "      <td>0.0415</td>\n",
       "    </tr>\n",
       "    <tr>\n",
       "      <th>3</th>\n",
       "      <td>Ecoopolis</td>\n",
       "      <td>Drone</td>\n",
       "      <td>Clear</td>\n",
       "      <td>Booming</td>\n",
       "      <td>Thursday</td>\n",
       "      <td>8</td>\n",
       "      <td>76.8000</td>\n",
       "      <td>1</td>\n",
       "      <td>0</td>\n",
       "      <td>46.0753</td>\n",
       "      <td>0.1811</td>\n",
       "    </tr>\n",
       "    <tr>\n",
       "      <th>4</th>\n",
       "      <td>AquaCity</td>\n",
       "      <td>Autonomous Vehicle</td>\n",
       "      <td>Solar Flare</td>\n",
       "      <td>Stable</td>\n",
       "      <td>Saturday</td>\n",
       "      <td>16</td>\n",
       "      <td>45.2176</td>\n",
       "      <td>0</td>\n",
       "      <td>0</td>\n",
       "      <td>40.1934</td>\n",
       "      <td>0.4544</td>\n",
       "    </tr>\n",
       "    <tr>\n",
       "      <th>...</th>\n",
       "      <td>...</td>\n",
       "      <td>...</td>\n",
       "      <td>...</td>\n",
       "      <td>...</td>\n",
       "      <td>...</td>\n",
       "      <td>...</td>\n",
       "      <td>...</td>\n",
       "      <td>...</td>\n",
       "      <td>...</td>\n",
       "      <td>...</td>\n",
       "      <td>...</td>\n",
       "    </tr>\n",
       "    <tr>\n",
       "      <th>1219562</th>\n",
       "      <td>SolarisVille</td>\n",
       "      <td>Autonomous Vehicle</td>\n",
       "      <td>Electromagnetic Storm</td>\n",
       "      <td>Booming</td>\n",
       "      <td>Wednesday</td>\n",
       "      <td>13</td>\n",
       "      <td>75.7534</td>\n",
       "      <td>0</td>\n",
       "      <td>0</td>\n",
       "      <td>60.6027</td>\n",
       "      <td>0.3840</td>\n",
       "    </tr>\n",
       "    <tr>\n",
       "      <th>1219563</th>\n",
       "      <td>MetropolisX</td>\n",
       "      <td>Drone</td>\n",
       "      <td>Snowy</td>\n",
       "      <td>Booming</td>\n",
       "      <td>Saturday</td>\n",
       "      <td>1</td>\n",
       "      <td>24.7660</td>\n",
       "      <td>0</td>\n",
       "      <td>0</td>\n",
       "      <td>14.8122</td>\n",
       "      <td>0.5526</td>\n",
       "    </tr>\n",
       "    <tr>\n",
       "      <th>1219564</th>\n",
       "      <td>Neuroburg</td>\n",
       "      <td>Autonomous Vehicle</td>\n",
       "      <td>Snowy</td>\n",
       "      <td>Booming</td>\n",
       "      <td>Monday</td>\n",
       "      <td>19</td>\n",
       "      <td>75.6292</td>\n",
       "      <td>0</td>\n",
       "      <td>0</td>\n",
       "      <td>61.8568</td>\n",
       "      <td>0.0564</td>\n",
       "    </tr>\n",
       "    <tr>\n",
       "      <th>1219565</th>\n",
       "      <td>MetropolisX</td>\n",
       "      <td>Autonomous Vehicle</td>\n",
       "      <td>Clear</td>\n",
       "      <td>Booming</td>\n",
       "      <td>Monday</td>\n",
       "      <td>1</td>\n",
       "      <td>52.7983</td>\n",
       "      <td>0</td>\n",
       "      <td>0</td>\n",
       "      <td>85.7116</td>\n",
       "      <td>0.5079</td>\n",
       "    </tr>\n",
       "    <tr>\n",
       "      <th>1219566</th>\n",
       "      <td>Ecoopolis</td>\n",
       "      <td>Drone</td>\n",
       "      <td>Electromagnetic Storm</td>\n",
       "      <td>Stable</td>\n",
       "      <td>Saturday</td>\n",
       "      <td>22</td>\n",
       "      <td>86.4000</td>\n",
       "      <td>0</td>\n",
       "      <td>1</td>\n",
       "      <td>49.5233</td>\n",
       "      <td>0.3182</td>\n",
       "    </tr>\n",
       "  </tbody>\n",
       "</table>\n",
       "<p>1219567 rows × 11 columns</p>\n",
       "</div>"
      ],
      "text/plain": [
       "                 City        Vehicle Type                Weather  \\\n",
       "0        SolarisVille               Drone                  Snowy   \n",
       "1            AquaCity          Flying Car            Solar Flare   \n",
       "2           Neuroburg  Autonomous Vehicle            Solar Flare   \n",
       "3           Ecoopolis               Drone                  Clear   \n",
       "4            AquaCity  Autonomous Vehicle            Solar Flare   \n",
       "...               ...                 ...                    ...   \n",
       "1219562  SolarisVille  Autonomous Vehicle  Electromagnetic Storm   \n",
       "1219563   MetropolisX               Drone                  Snowy   \n",
       "1219564     Neuroburg  Autonomous Vehicle                  Snowy   \n",
       "1219565   MetropolisX  Autonomous Vehicle                  Clear   \n",
       "1219566     Ecoopolis               Drone  Electromagnetic Storm   \n",
       "\n",
       "        Economic Condition Day Of Week  Hour Of Day     Speed  Is Peak Hour  \\\n",
       "0                   Stable      Sunday           20   29.4268             0   \n",
       "1                Recession   Wednesday            2  118.8000             0   \n",
       "2                Recession   Wednesday           16  100.3904             0   \n",
       "3                  Booming    Thursday            8   76.8000             1   \n",
       "4                   Stable    Saturday           16   45.2176             0   \n",
       "...                    ...         ...          ...       ...           ...   \n",
       "1219562            Booming   Wednesday           13   75.7534             0   \n",
       "1219563            Booming    Saturday            1   24.7660             0   \n",
       "1219564            Booming      Monday           19   75.6292             0   \n",
       "1219565            Booming      Monday            1   52.7983             0   \n",
       "1219566             Stable    Saturday           22   86.4000             0   \n",
       "\n",
       "         Random Event Occurred  Energy Consumption  Traffic Density  \n",
       "0                            0             14.7134           0.5241  \n",
       "1                            0            143.5682           0.3208  \n",
       "2                            0             91.2640           0.0415  \n",
       "3                            0             46.0753           0.1811  \n",
       "4                            0             40.1934           0.4544  \n",
       "...                        ...                 ...              ...  \n",
       "1219562                      0             60.6027           0.3840  \n",
       "1219563                      0             14.8122           0.5526  \n",
       "1219564                      0             61.8568           0.0564  \n",
       "1219565                      0             85.7116           0.5079  \n",
       "1219566                      1             49.5233           0.3182  \n",
       "\n",
       "[1219567 rows x 11 columns]"
      ]
     },
     "execution_count": 20,
     "metadata": {},
     "output_type": "execute_result"
    }
   ],
   "source": [
    "df"
   ]
  },
  {
   "cell_type": "code",
   "execution_count": 21,
   "id": "1af31a35-f9ad-47fc-9fac-3b64ee0d9d9e",
   "metadata": {
    "tags": []
   },
   "outputs": [
    {
     "data": {
      "text/plain": [
       "City                     False\n",
       "Vehicle Type             False\n",
       "Weather                  False\n",
       "Economic Condition       False\n",
       "Day Of Week              False\n",
       "Hour Of Day              False\n",
       "Speed                    False\n",
       "Is Peak Hour             False\n",
       "Random Event Occurred    False\n",
       "Energy Consumption       False\n",
       "Traffic Density          False\n",
       "dtype: bool"
      ]
     },
     "execution_count": 21,
     "metadata": {},
     "output_type": "execute_result"
    }
   ],
   "source": [
    "df.isnull().any(axis=0)"
   ]
  },
  {
   "cell_type": "markdown",
   "id": "1aa59c1d-56d9-49ba-b3db-0ff9abaaa84e",
   "metadata": {
    "tags": []
   },
   "source": [
    "**There are no null values in the dataset**"
   ]
  },
  {
   "cell_type": "markdown",
   "id": "c476ec81-29c9-4fda-8bad-822ce23287f5",
   "metadata": {},
   "source": [
    "### Question 1: How does traffic density affect speed and Energy Consumption?"
   ]
  },
  {
   "cell_type": "code",
   "execution_count": 22,
   "id": "bc628cd8-a2fd-4b9f-908b-13e0ae180f22",
   "metadata": {
    "tags": []
   },
   "outputs": [
    {
     "data": {
      "text/html": [
       "<div>\n",
       "<style scoped>\n",
       "    .dataframe tbody tr th:only-of-type {\n",
       "        vertical-align: middle;\n",
       "    }\n",
       "\n",
       "    .dataframe tbody tr th {\n",
       "        vertical-align: top;\n",
       "    }\n",
       "\n",
       "    .dataframe thead th {\n",
       "        text-align: right;\n",
       "    }\n",
       "</style>\n",
       "<table border=\"1\" class=\"dataframe\">\n",
       "  <thead>\n",
       "    <tr style=\"text-align: right;\">\n",
       "      <th></th>\n",
       "      <th>Speed</th>\n",
       "      <th>Energy Consumption</th>\n",
       "      <th>Traffic Density</th>\n",
       "    </tr>\n",
       "  </thead>\n",
       "  <tbody>\n",
       "    <tr>\n",
       "      <th>Speed</th>\n",
       "      <td>1.000000</td>\n",
       "      <td>0.840122</td>\n",
       "      <td>-0.028211</td>\n",
       "    </tr>\n",
       "    <tr>\n",
       "      <th>Energy Consumption</th>\n",
       "      <td>0.840122</td>\n",
       "      <td>1.000000</td>\n",
       "      <td>0.015740</td>\n",
       "    </tr>\n",
       "    <tr>\n",
       "      <th>Traffic Density</th>\n",
       "      <td>-0.028211</td>\n",
       "      <td>0.015740</td>\n",
       "      <td>1.000000</td>\n",
       "    </tr>\n",
       "  </tbody>\n",
       "</table>\n",
       "</div>"
      ],
      "text/plain": [
       "                       Speed  Energy Consumption  Traffic Density\n",
       "Speed               1.000000            0.840122        -0.028211\n",
       "Energy Consumption  0.840122            1.000000         0.015740\n",
       "Traffic Density    -0.028211            0.015740         1.000000"
      ]
     },
     "execution_count": 22,
     "metadata": {},
     "output_type": "execute_result"
    }
   ],
   "source": [
    "df[['Speed', 'Energy Consumption', 'Traffic Density']].corr()"
   ]
  },
  {
   "cell_type": "code",
   "execution_count": 23,
   "id": "a13466fc-f467-4d39-a831-b978e995c174",
   "metadata": {
    "tags": []
   },
   "outputs": [],
   "source": [
    "model = LinearRegression()"
   ]
  },
  {
   "cell_type": "code",
   "execution_count": 24,
   "id": "d864248f-0ab9-443d-b1fb-740a14f9e173",
   "metadata": {
    "tags": []
   },
   "outputs": [
    {
     "name": "stdout",
     "output_type": "stream",
     "text": [
      "Linear Regresion on Speed on Traffic Density -3.4290894621586134\n"
     ]
    }
   ],
   "source": [
    "model.fit(df['Traffic Density'].values.reshape(-1, 1), df['Speed'].values)\n",
    "print(\"Linear Regresion on Speed on Traffic Density\", model.coef_[0])\n",
    "# sns.scatterplot(data=df, x='Traffic Density', y='Speed', color=\"black\")"
   ]
  },
  {
   "cell_type": "code",
   "execution_count": 25,
   "id": "bbe6a0af-9802-4cec-adcb-e22029fabdb3",
   "metadata": {
    "tags": []
   },
   "outputs": [
    {
     "name": "stdout",
     "output_type": "stream",
     "text": [
      "Linear Regresion of Energy Consumption on Traffic Density 1.816126692472749\n"
     ]
    }
   ],
   "source": [
    "model.fit(df['Traffic Density'].values.reshape(-1, 1), df['Energy Consumption'].values)\n",
    "print(\"Linear Regresion of Energy Consumption on Traffic Density\", model.coef_[0])\n",
    "# sns.scatterplot(data=df, x='Traffic Density', y='Energy Consumption', color=\"black\")"
   ]
  },
  {
   "cell_type": "markdown",
   "id": "e78932e4-112f-4487-9a88-b07c5850f9bb",
   "metadata": {
    "tags": []
   },
   "source": [
    "From the analysis we can see that:\n",
    "1. As the traffic density increases by one unit, the speed deacreases by about 3.5 times\n",
    "2. As the traffic density increases by one unit, the energy consumption increases by 1.8 times"
   ]
  },
  {
   "cell_type": "markdown",
   "id": "a9d8c77d-ad78-4f9b-9724-6d4b920a0a3a",
   "metadata": {
    "tags": []
   },
   "source": [
    "### Question 2: Which day has higher traffic density?"
   ]
  },
  {
   "cell_type": "code",
   "execution_count": 58,
   "id": "da018788-a9ff-4973-9007-1622315ef710",
   "metadata": {
    "tags": []
   },
   "outputs": [
    {
     "name": "stderr",
     "output_type": "stream",
     "text": [
      "D:\\D11AD_36_Sem6\\Anaconda\\Lib\\site-packages\\seaborn\\axisgrid.py:118: UserWarning: The figure layout has changed to tight\n",
      "  self._figure.tight_layout(*args, **kwargs)\n"
     ]
    },
    {
     "data": {
      "text/plain": [
       "<seaborn.axisgrid.FacetGrid at 0x24f1c98c0d0>"
      ]
     },
     "execution_count": 58,
     "metadata": {},
     "output_type": "execute_result"
    },
    {
     "data": {
      "image/png": "[encoded data removed]",
      "text/plain": [
       "<Figure size 1200x800 with 1 Axes>"
      ]
     },
     "metadata": {},
     "output_type": "display_data"
    }
   ],
   "source": [
    "# Displaying medians\n",
    "sns.catplot(data=df, x='Day Of Week', y='Traffic Density', height=8, aspect=1.5)"
   ]
  },
  {
   "cell_type": "code",
   "execution_count": 35,
   "id": "174ede30-d415-4484-a4f1-e486a7612881",
   "metadata": {
    "tags": []
   },
   "outputs": [
    {
     "data": {
      "text/html": [
       "<div>\n",
       "<style scoped>\n",
       "    .dataframe tbody tr th:only-of-type {\n",
       "        vertical-align: middle;\n",
       "    }\n",
       "\n",
       "    .dataframe tbody tr th {\n",
       "        vertical-align: top;\n",
       "    }\n",
       "\n",
       "    .dataframe thead th {\n",
       "        text-align: right;\n",
       "    }\n",
       "</style>\n",
       "<table border=\"1\" class=\"dataframe\">\n",
       "  <thead>\n",
       "    <tr style=\"text-align: right;\">\n",
       "      <th></th>\n",
       "      <th>Traffic Density</th>\n",
       "    </tr>\n",
       "    <tr>\n",
       "      <th>Day Of Week</th>\n",
       "      <th></th>\n",
       "    </tr>\n",
       "  </thead>\n",
       "  <tbody>\n",
       "    <tr>\n",
       "      <th>Friday</th>\n",
       "      <td>0.2192</td>\n",
       "    </tr>\n",
       "    <tr>\n",
       "      <th>Monday</th>\n",
       "      <td>0.2149</td>\n",
       "    </tr>\n",
       "    <tr>\n",
       "      <th>Saturday</th>\n",
       "      <td>0.2270</td>\n",
       "    </tr>\n",
       "    <tr>\n",
       "      <th>Sunday</th>\n",
       "      <td>0.2269</td>\n",
       "    </tr>\n",
       "    <tr>\n",
       "      <th>Thursday</th>\n",
       "      <td>0.2133</td>\n",
       "    </tr>\n",
       "    <tr>\n",
       "      <th>Tuesday</th>\n",
       "      <td>0.2152</td>\n",
       "    </tr>\n",
       "    <tr>\n",
       "      <th>Wednesday</th>\n",
       "      <td>0.2148</td>\n",
       "    </tr>\n",
       "  </tbody>\n",
       "</table>\n",
       "</div>"
      ],
      "text/plain": [
       "             Traffic Density\n",
       "Day Of Week                 \n",
       "Friday                0.2192\n",
       "Monday                0.2149\n",
       "Saturday              0.2270\n",
       "Sunday                0.2269\n",
       "Thursday              0.2133\n",
       "Tuesday               0.2152\n",
       "Wednesday             0.2148"
      ]
     },
     "execution_count": 35,
     "metadata": {},
     "output_type": "execute_result"
    }
   ],
   "source": [
    "# Displaying day wise distribution\n",
    "df[['Traffic Density', 'Day Of Week']].groupby('Day Of Week').agg('median')"
   ]
  },
  {
   "cell_type": "code",
   "execution_count": 36,
   "id": "1985ce33-e57a-46e0-9f91-45f1809630e2",
   "metadata": {
    "tags": []
   },
   "outputs": [
    {
     "data": {
      "text/html": [
       "<div>\n",
       "<style scoped>\n",
       "    .dataframe tbody tr th:only-of-type {\n",
       "        vertical-align: middle;\n",
       "    }\n",
       "\n",
       "    .dataframe tbody tr th {\n",
       "        vertical-align: top;\n",
       "    }\n",
       "\n",
       "    .dataframe thead th {\n",
       "        text-align: right;\n",
       "    }\n",
       "</style>\n",
       "<table border=\"1\" class=\"dataframe\">\n",
       "  <thead>\n",
       "    <tr style=\"text-align: right;\">\n",
       "      <th></th>\n",
       "      <th>Traffic Density</th>\n",
       "    </tr>\n",
       "    <tr>\n",
       "      <th>Day Of Week</th>\n",
       "      <th></th>\n",
       "    </tr>\n",
       "  </thead>\n",
       "  <tbody>\n",
       "    <tr>\n",
       "      <th>Friday</th>\n",
       "      <td>0.280504</td>\n",
       "    </tr>\n",
       "    <tr>\n",
       "      <th>Monday</th>\n",
       "      <td>0.273950</td>\n",
       "    </tr>\n",
       "    <tr>\n",
       "      <th>Saturday</th>\n",
       "      <td>0.283474</td>\n",
       "    </tr>\n",
       "    <tr>\n",
       "      <th>Sunday</th>\n",
       "      <td>0.283350</td>\n",
       "    </tr>\n",
       "    <tr>\n",
       "      <th>Thursday</th>\n",
       "      <td>0.272366</td>\n",
       "    </tr>\n",
       "    <tr>\n",
       "      <th>Tuesday</th>\n",
       "      <td>0.272943</td>\n",
       "    </tr>\n",
       "    <tr>\n",
       "      <th>Wednesday</th>\n",
       "      <td>0.273143</td>\n",
       "    </tr>\n",
       "  </tbody>\n",
       "</table>\n",
       "</div>"
      ],
      "text/plain": [
       "             Traffic Density\n",
       "Day Of Week                 \n",
       "Friday              0.280504\n",
       "Monday              0.273950\n",
       "Saturday            0.283474\n",
       "Sunday              0.283350\n",
       "Thursday            0.272366\n",
       "Tuesday             0.272943\n",
       "Wednesday           0.273143"
      ]
     },
     "execution_count": 36,
     "metadata": {},
     "output_type": "execute_result"
    }
   ],
   "source": [
    "df[['Traffic Density', 'Day Of Week']].groupby('Day Of Week').agg('mean')"
   ]
  },
  {
   "cell_type": "markdown",
   "id": "32f189b7-1d3d-40eb-95cb-43081c0739c8",
   "metadata": {},
   "source": [
    "From the analysis it is visible that there isn't a noticeable difference in traffic based on Days of the Week"
   ]
  },
  {
   "cell_type": "markdown",
   "id": "ede53956-35ee-46e6-b06a-8436c0cf1714",
   "metadata": {
    "tags": []
   },
   "source": [
    "### Question 3: Which City allows which vehicles at highest speeds?"
   ]
  },
  {
   "cell_type": "code",
   "execution_count": 59,
   "id": "adf52754-096f-4682-a5df-08160f49789f",
   "metadata": {
    "tags": []
   },
   "outputs": [
    {
     "name": "stderr",
     "output_type": "stream",
     "text": [
      "D:\\D11AD_36_Sem6\\Anaconda\\Lib\\site-packages\\seaborn\\axisgrid.py:118: UserWarning: The figure layout has changed to tight\n",
      "  self._figure.tight_layout(*args, **kwargs)\n"
     ]
    },
    {
     "data": {
      "text/plain": [
       "<seaborn.axisgrid.FacetGrid at 0x24f1c8c3950>"
      ]
     },
     "execution_count": 59,
     "metadata": {},
     "output_type": "execute_result"
    },
    {
     "data": {
      "image/png": "[encoded data removed]",
      "text/plain": [
       "<Figure size 1391.25x800 with 1 Axes>"
      ]
     },
     "metadata": {},
     "output_type": "display_data"
    }
   ],
   "source": [
    "sns.catplot(data=df, x=\"City\", y=\"Speed\", hue=\"Vehicle Type\", kind=\"bar\", height=8, aspect=1.5)"
   ]
  },
  {
   "cell_type": "markdown",
   "id": "7fe0d902-76f9-4fee-bfee-d5ff2ea90c52",
   "metadata": {
    "tags": []
   },
   "source": [
    "### Question 4: Which City has more peak hours?"
   ]
  },
  {
   "cell_type": "code",
   "execution_count": 55,
   "id": "105579eb-db32-4304-85e4-27858945a28c",
   "metadata": {
    "tags": []
   },
   "outputs": [],
   "source": [
    "df_filtered = df.loc[df['Is Peak Hour'] == 1]"
   ]
  },
  {
   "cell_type": "code",
   "execution_count": 56,
   "id": "783edac8-c941-4d3b-bad2-1e60beba1fc3",
   "metadata": {
    "tags": []
   },
   "outputs": [
    {
     "data": {
      "text/plain": [
       "<Axes: xlabel='City', ylabel='count'>"
      ]
     },
     "execution_count": 56,
     "metadata": {},
     "output_type": "execute_result"
    },
    {
     "data": {
      "image/png": "[encoded data removed]",
      "text/plain": [
       "<Figure size 640x480 with 1 Axes>"
      ]
     },
     "metadata": {},
     "output_type": "display_data"
    }
   ],
   "source": [
    "sns.countplot(x='City', data=df_filtered)"
   ]
  },
  {
   "cell_type": "markdown",
   "id": "0da56eab-c33b-4e91-884a-0dcf90646304",
   "metadata": {},
   "source": [
    "### Question 5: Which vehicles has greater energy consumption?"
   ]
  },
  {
   "cell_type": "code",
   "execution_count": 57,
   "id": "4c08c95f-648f-48a2-90d0-e061319e32de",
   "metadata": {
    "tags": []
   },
   "outputs": [
    {
     "name": "stderr",
     "output_type": "stream",
     "text": [
      "D:\\D11AD_36_Sem6\\Anaconda\\Lib\\site-packages\\seaborn\\axisgrid.py:118: UserWarning: The figure layout has changed to tight\n",
      "  self._figure.tight_layout(*args, **kwargs)\n"
     ]
    },
    {
     "data": {
      "text/plain": [
       "<seaborn.axisgrid.FacetGrid at 0x24f1b59e350>"
      ]
     },
     "execution_count": 57,
     "metadata": {},
     "output_type": "execute_result"
    },
    {
     "data": {
      "image/png": "[encoded data removed]",
      "text/plain": [
       "<Figure size 500x500 with 1 Axes>"
      ]
     },
     "metadata": {},
     "output_type": "display_data"
    }
   ],
   "source": [
    "sns.catplot(data=df, x='Vehicle Type', y='Energy Consumption')"
   ]
  }
 ],
 "metadata": {
  "kernelspec": {
   "display_name": "Python 3 (ipykernel)",
   "language": "python",
   "name": "python3"
  },
  "language_info": {
   "codemirror_mode": {
    "name": "ipython",
    "version": 3
   },
   "file_extension": ".py",
   "mimetype": "text/x-python",
   "name": "python",
   "nbconvert_exporter": "python",
   "pygments_lexer": "ipython3",
   "version": "3.11.5"
  }
 },
 "nbformat": 4,
 "nbformat_minor": 5
}
